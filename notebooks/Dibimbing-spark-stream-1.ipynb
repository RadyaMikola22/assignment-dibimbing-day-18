{
 "cells": [
  {
   "cell_type": "markdown",
   "metadata": {},
   "source": [
    "# Initialization"
   ]
  },
  {
   "cell_type": "code",
   "execution_count": 1,
   "metadata": {
    "tags": []
   },
   "outputs": [],
   "source": [
    "import pyspark\n",
    "sparkcontext = pyspark.SparkContext.getOrCreate(conf=(\n",
    "        pyspark\n",
    "        .SparkConf()\n",
    "        .setAppName('Dibimbing')\n",
    "        .setMaster('local')\n",
    "    ))\n",
    "sparkcontext.setLogLevel(\"WARN\")\n",
    "\n",
    "spark = pyspark.sql.SparkSession(sparkcontext.getOrCreate())"
   ]
  },
  {
   "cell_type": "code",
   "execution_count": 2,
   "metadata": {
    "tags": []
   },
   "outputs": [
    {
     "data": {
      "text/html": [
       "\n",
       "            <div>\n",
       "                <p><b>SparkSession - in-memory</b></p>\n",
       "                \n",
       "        <div>\n",
       "            <p><b>SparkContext</b></p>\n",
       "\n",
       "            <p><a href=\"http://dibimbing-jupyter:4040\">Spark UI</a></p>\n",
       "\n",
       "            <dl>\n",
       "              <dt>Version</dt>\n",
       "                <dd><code>v3.3.2</code></dd>\n",
       "              <dt>Master</dt>\n",
       "                <dd><code>local</code></dd>\n",
       "              <dt>AppName</dt>\n",
       "                <dd><code>Dibimbing</code></dd>\n",
       "            </dl>\n",
       "        </div>\n",
       "        \n",
       "            </div>\n",
       "        "
      ],
      "text/plain": [
       "<pyspark.sql.session.SparkSession at 0x7fec8e6d3610>"
      ]
     },
     "execution_count": 2,
     "metadata": {},
     "output_type": "execute_result"
    }
   ],
   "source": [
    "spark"
   ]
  },
  {
   "cell_type": "markdown",
   "metadata": {},
   "source": [
    "# Data Load"
   ]
  },
  {
   "cell_type": "code",
   "execution_count": 3,
   "metadata": {
    "tags": []
   },
   "outputs": [
    {
     "name": "stdout",
     "output_type": "stream",
     "text": [
      "_committed_730451297822678341\n",
      "part-00000-tid-730451297822678341-1dda7027-2071-4d73-a0e2-7fb6a91e1d1f-0-c000.json\n",
      "part-00001-tid-730451297822678341-1dda7027-2071-4d73-a0e2-7fb6a91e1d1f-0-c000.json\n",
      "part-00002-tid-730451297822678341-1dda7027-2071-4d73-a0e2-7fb6a91e1d1f-0-c000.json\n",
      "part-00003-tid-730451297822678341-1dda7027-2071-4d73-a0e2-7fb6a91e1d1f-0-c000.json\n",
      "part-00004-tid-730451297822678341-1dda7027-2071-4d73-a0e2-7fb6a91e1d1f-0-c000.json\n",
      "part-00005-tid-730451297822678341-1dda7027-2071-4d73-a0e2-7fb6a91e1d1f-0-c000.json\n",
      "part-00006-tid-730451297822678341-1dda7027-2071-4d73-a0e2-7fb6a91e1d1f-0-c000.json\n",
      "part-00007-tid-730451297822678341-1dda7027-2071-4d73-a0e2-7fb6a91e1d1f-0-c000.json\n",
      "part-00008-tid-730451297822678341-1dda7027-2071-4d73-a0e2-7fb6a91e1d1f-0-c000.json\n"
     ]
    }
   ],
   "source": [
    "!ls /resources/data/activity-data/ | head -10"
   ]
  },
  {
   "cell_type": "code",
   "execution_count": 4,
   "metadata": {
    "tags": []
   },
   "outputs": [
    {
     "data": {
      "text/plain": [
       "StructType([StructField('Arrival_Time', LongType(), True), StructField('Creation_Time', LongType(), True), StructField('Device', StringType(), True), StructField('Index', LongType(), True), StructField('Model', StringType(), True), StructField('User', StringType(), True), StructField('gt', StringType(), True), StructField('x', DoubleType(), True), StructField('y', DoubleType(), True), StructField('z', DoubleType(), True)])"
      ]
     },
     "execution_count": 4,
     "metadata": {},
     "output_type": "execute_result"
    }
   ],
   "source": [
    "static = spark.read.json('/resources/data/activity-data/')\n",
    "dataSchema = static.schema\n",
    "dataSchema"
   ]
  },
  {
   "cell_type": "code",
   "execution_count": 5,
   "metadata": {
    "tags": []
   },
   "outputs": [
    {
     "name": "stdout",
     "output_type": "stream",
     "text": [
      "+-------------+-------------------+--------+-----+------+----+-----+------------+------------+------------+\n",
      "| Arrival_Time|      Creation_Time|  Device|Index| Model|User|   gt|           x|           y|           z|\n",
      "+-------------+-------------------+--------+-----+------+----+-----+------------+------------+------------+\n",
      "|1424686735090|1424686733090638193|nexus4_1|   18|nexus4|   g|stand| 3.356934E-4|-5.645752E-4|-0.018814087|\n",
      "|1424686735292|1424688581345918092|nexus4_2|   66|nexus4|   g|stand|-0.005722046| 0.029083252| 0.005569458|\n",
      "|1424686735500|1424686733498505625|nexus4_1|   99|nexus4|   g|stand|   0.0078125|-0.017654419| 0.010025024|\n",
      "|1424686735691|1424688581745026978|nexus4_2|  145|nexus4|   g|stand|-3.814697E-4|   0.0184021|-0.013656616|\n",
      "|1424686735890|1424688581945252808|nexus4_2|  185|nexus4|   g|stand|-3.814697E-4|-0.031799316| -0.00831604|\n",
      "+-------------+-------------------+--------+-----+------+----+-----+------------+------------+------------+\n",
      "only showing top 5 rows\n",
      "\n"
     ]
    }
   ],
   "source": [
    "static.show(5)"
   ]
  },
  {
   "cell_type": "markdown",
   "metadata": {},
   "source": [
    "Metadata for the dataset\n",
    "\n",
    "| Column | Description |\n",
    "| --- | ----------- |\n",
    "| Index         |  The row number.\n",
    "| Arrival_Time  |  The time the measurement arrived to the sensing application\n",
    "| Creation_Time |  The timestamp the OS attaches to the sample\n",
    "| X,Y,Z | The values provided by the sensor for the three axes, X,y,z\n",
    "| User          |  The user this sample originates from, the users are named a to i.\n",
    "| Model         |  The phone/watch model this sample originates from\n",
    "| Device        |  The specific device this sample is from. They are prefixed with the model name and then the number, e.g., nexus4_1 or nexus4_2.\n",
    "| Gt            |  The activity the user was performing: bike sit, stand, walk, stairsup, stairsdown and null"
   ]
  },
  {
   "cell_type": "markdown",
   "metadata": {},
   "source": [
    "# Structured Streaming"
   ]
  },
  {
   "cell_type": "markdown",
   "metadata": {
    "tags": []
   },
   "source": [
    "### Mock File Streaming (Throttle)"
   ]
  },
  {
   "cell_type": "code",
   "execution_count": 6,
   "metadata": {
    "tags": []
   },
   "outputs": [],
   "source": [
    "streaming = (\n",
    "    spark\n",
    "    .readStream\n",
    "    .schema(dataSchema)\n",
    "    .option('maxFilesPerTrigger', 1)\n",
    "    .json('/resources/data/activity-data/')\n",
    ")"
   ]
  },
  {
   "cell_type": "markdown",
   "metadata": {
    "tags": []
   },
   "source": [
    "### Simple Aggregations"
   ]
  },
  {
   "cell_type": "code",
   "execution_count": 7,
   "metadata": {
    "tags": []
   },
   "outputs": [],
   "source": [
    "activityCounts = streaming.groupBy('gt').count()\n",
    "\n",
    "\n",
    "# set partitions\n",
    "spark.conf.set('spark.sql.shuffle.partitions', 5)"
   ]
  },
  {
   "cell_type": "code",
   "execution_count": 8,
   "metadata": {
    "tags": []
   },
   "outputs": [],
   "source": [
    "activityQuery = (\n",
    "    activityCounts.writeStream\n",
    "    .queryName('activity_counts')\n",
    "    .format('memory')\n",
    "    .outputMode('complete')\n",
    "    .start()\n",
    ")\n",
    "\n",
    "# activityQuery.awaitTermination()"
   ]
  },
  {
   "cell_type": "code",
   "execution_count": 9,
   "metadata": {
    "tags": []
   },
   "outputs": [
    {
     "name": "stdout",
     "output_type": "stream",
     "text": [
      "+----------+-------+\n",
      "|        gt|  count|\n",
      "+----------+-------+\n",
      "|       sit| 984714|\n",
      "|     stand| 910783|\n",
      "|stairsdown| 749059|\n",
      "|      walk|1060402|\n",
      "|  stairsup| 836598|\n",
      "|      null| 835725|\n",
      "|      bike| 863710|\n",
      "+----------+-------+\n",
      "\n",
      "+----------+-------+\n",
      "|        gt|  count|\n",
      "+----------+-------+\n",
      "|       sit| 984714|\n",
      "|     stand| 910783|\n",
      "|stairsdown| 749059|\n",
      "|      walk|1060402|\n",
      "|  stairsup| 836598|\n",
      "|      null| 835725|\n",
      "|      bike| 863710|\n",
      "+----------+-------+\n",
      "\n",
      "+----------+-------+\n",
      "|        gt|  count|\n",
      "+----------+-------+\n",
      "|       sit| 984714|\n",
      "|     stand| 910783|\n",
      "|stairsdown| 749059|\n",
      "|      walk|1060402|\n",
      "|  stairsup| 836598|\n",
      "|      null| 835725|\n",
      "|      bike| 863710|\n",
      "+----------+-------+\n",
      "\n",
      "+----------+-------+\n",
      "|        gt|  count|\n",
      "+----------+-------+\n",
      "|       sit| 984714|\n",
      "|     stand| 910783|\n",
      "|stairsdown| 749059|\n",
      "|      walk|1060402|\n",
      "|  stairsup| 836598|\n",
      "|      null| 835725|\n",
      "|      bike| 863710|\n",
      "+----------+-------+\n",
      "\n",
      "+----------+-------+\n",
      "|        gt|  count|\n",
      "+----------+-------+\n",
      "|       sit| 984714|\n",
      "|     stand| 910783|\n",
      "|stairsdown| 749059|\n",
      "|      walk|1060402|\n",
      "|  stairsup| 836598|\n",
      "|      null| 835725|\n",
      "|      bike| 863710|\n",
      "+----------+-------+\n",
      "\n"
     ]
    }
   ],
   "source": [
    "from time import sleep\n",
    "for x in range(5):\n",
    "    spark.sql(\"SELECT * FROM activity_counts\").show()\n",
    "    sleep(1)"
   ]
  },
  {
   "cell_type": "markdown",
   "metadata": {},
   "source": [
    "### Complex Aggregation"
   ]
  },
  {
   "cell_type": "code",
   "execution_count": 10,
   "metadata": {
    "tags": []
   },
   "outputs": [],
   "source": [
    "from pyspark.sql.functions import expr\n",
    "\n",
    "simpleTransform = (\n",
    "    streaming\n",
    "    .withColumn('stairs', expr(\"gt like '%stairs%'\"))\n",
    "    .where('stairs')\n",
    "    .where('gt is not null')\n",
    "    .select('gt', 'model', 'arrival_time', 'creation_time')\n",
    "    .writeStream\n",
    "    .queryName('simple_transform')\n",
    "    .format('memory')\n",
    "    .outputMode('append')\n",
    "    .start()\n",
    ")"
   ]
  },
  {
   "cell_type": "code",
   "execution_count": 11,
   "metadata": {
    "tags": []
   },
   "outputs": [
    {
     "name": "stdout",
     "output_type": "stream",
     "text": [
      "+--------+------+-------------+-------------------+\n",
      "|      gt| model| arrival_time|      creation_time|\n",
      "+--------+------+-------------+-------------------+\n",
      "|stairsup|nexus4|1424687983719|1424687981726802718|\n",
      "|stairsup|nexus4|1424687984000|1424687982009853255|\n",
      "|stairsup|nexus4|1424687984404|1424687982411977009|\n",
      "|stairsup|nexus4|1424687984805|1424687982814351277|\n",
      "|stairsup|nexus4|1424687985210|1424687983217500861|\n",
      "|stairsup|nexus4|1424687985620|1424687983620332892|\n",
      "|stairsup|nexus4|1424687986016|1424687984023164923|\n",
      "|stairsup|nexus4|1424687986420|1424687984425874884|\n",
      "|stairsup|nexus4|1424687986820|1424687984828822915|\n",
      "|stairsup|nexus4|1424687987225|1424687985231654946|\n",
      "|stairsup|nexus4|1424687987625|1424687985634469017|\n",
      "|stairsup|nexus4|1424687987992|1424687986002114280|\n",
      "|stairsup|nexus4|1424687988191|1424689834237427627|\n",
      "|stairsup|nexus4|1424687988392|1424689834438660537|\n",
      "|stairsup|nexus4|1424687988592|1424689834640076553|\n",
      "|stairsup|nexus4|1424687988794|1424689834841675674|\n",
      "|stairsup|nexus4|1424687988999|1424689835047943984|\n",
      "|stairsup|nexus4|1424687989200|1424687987205721701|\n",
      "|stairsup|nexus4|1424687989409|1424689835458070221|\n",
      "|stairsup|nexus4|1424687989606|1424687987613772238|\n",
      "+--------+------+-------------+-------------------+\n",
      "only showing top 20 rows\n",
      "\n",
      "+--------+------+-------------+-------------------+\n",
      "|      gt| model| arrival_time|      creation_time|\n",
      "+--------+------+-------------+-------------------+\n",
      "|stairsup|nexus4|1424687983719|1424687981726802718|\n",
      "|stairsup|nexus4|1424687984000|1424687982009853255|\n",
      "|stairsup|nexus4|1424687984404|1424687982411977009|\n",
      "|stairsup|nexus4|1424687984805|1424687982814351277|\n",
      "|stairsup|nexus4|1424687985210|1424687983217500861|\n",
      "|stairsup|nexus4|1424687985620|1424687983620332892|\n",
      "|stairsup|nexus4|1424687986016|1424687984023164923|\n",
      "|stairsup|nexus4|1424687986420|1424687984425874884|\n",
      "|stairsup|nexus4|1424687986820|1424687984828822915|\n",
      "|stairsup|nexus4|1424687987225|1424687985231654946|\n",
      "|stairsup|nexus4|1424687987625|1424687985634469017|\n",
      "|stairsup|nexus4|1424687987992|1424687986002114280|\n",
      "|stairsup|nexus4|1424687988191|1424689834237427627|\n",
      "|stairsup|nexus4|1424687988392|1424689834438660537|\n",
      "|stairsup|nexus4|1424687988592|1424689834640076553|\n",
      "|stairsup|nexus4|1424687988794|1424689834841675674|\n",
      "|stairsup|nexus4|1424687988999|1424689835047943984|\n",
      "|stairsup|nexus4|1424687989200|1424687987205721701|\n",
      "|stairsup|nexus4|1424687989409|1424689835458070221|\n",
      "|stairsup|nexus4|1424687989606|1424687987613772238|\n",
      "+--------+------+-------------+-------------------+\n",
      "only showing top 20 rows\n",
      "\n",
      "+--------+------+-------------+-------------------+\n",
      "|      gt| model| arrival_time|      creation_time|\n",
      "+--------+------+-------------+-------------------+\n",
      "|stairsup|nexus4|1424687983719|1424687981726802718|\n",
      "|stairsup|nexus4|1424687984000|1424687982009853255|\n",
      "|stairsup|nexus4|1424687984404|1424687982411977009|\n",
      "|stairsup|nexus4|1424687984805|1424687982814351277|\n",
      "|stairsup|nexus4|1424687985210|1424687983217500861|\n",
      "|stairsup|nexus4|1424687985620|1424687983620332892|\n",
      "|stairsup|nexus4|1424687986016|1424687984023164923|\n",
      "|stairsup|nexus4|1424687986420|1424687984425874884|\n",
      "|stairsup|nexus4|1424687986820|1424687984828822915|\n",
      "|stairsup|nexus4|1424687987225|1424687985231654946|\n",
      "|stairsup|nexus4|1424687987625|1424687985634469017|\n",
      "|stairsup|nexus4|1424687987992|1424687986002114280|\n",
      "|stairsup|nexus4|1424687988191|1424689834237427627|\n",
      "|stairsup|nexus4|1424687988392|1424689834438660537|\n",
      "|stairsup|nexus4|1424687988592|1424689834640076553|\n",
      "|stairsup|nexus4|1424687988794|1424689834841675674|\n",
      "|stairsup|nexus4|1424687988999|1424689835047943984|\n",
      "|stairsup|nexus4|1424687989200|1424687987205721701|\n",
      "|stairsup|nexus4|1424687989409|1424689835458070221|\n",
      "|stairsup|nexus4|1424687989606|1424687987613772238|\n",
      "+--------+------+-------------+-------------------+\n",
      "only showing top 20 rows\n",
      "\n"
     ]
    }
   ],
   "source": [
    "for x in range(3):\n",
    "    spark.sql(\"SELECT * FROM simple_transform\").show()\n",
    "    sleep(1)"
   ]
  },
  {
   "cell_type": "code",
   "execution_count": 12,
   "metadata": {
    "tags": []
   },
   "outputs": [],
   "source": [
    "deviceModelStats = (\n",
    "    streaming\n",
    "    .cube('gt', 'model')\n",
    "    .avg()\n",
    "    .drop(\"avg(Arrival_time)\")\n",
    "    .drop(\"avg(Creation_time)\")\n",
    "    .drop(\"avg(Index)\")\n",
    "    .writeStream\n",
    "    .queryName('device_counts')\n",
    "    .format('memory')\n",
    "    .outputMode('complete')\n",
    "    .start()\n",
    ")"
   ]
  },
  {
   "cell_type": "code",
   "execution_count": 13,
   "metadata": {
    "tags": []
   },
   "outputs": [
    {
     "name": "stdout",
     "output_type": "stream",
     "text": [
      "+----------+------+--------------------+--------------------+--------------------+\n",
      "|        gt| model|              avg(x)|              avg(y)|              avg(z)|\n",
      "+----------+------+--------------------+--------------------+--------------------+\n",
      "|       sit|  null|-4.84874225480319...|3.237740430277418E-4|-4.65213713798286...|\n",
      "|      walk|nexus4|-0.00371092404649...|0.003353258755646497|0.001107451361787...|\n",
      "|      walk|  null|-0.00371092404649...|0.003353258755646497|0.001107451361787...|\n",
      "|  stairsup|  null|-0.02442588571617...|-0.01150252324103...| -0.0994707080266443|\n",
      "|     stand|  null|-3.19865608911240...|4.070066943871047E-4|1.027885098598926...|\n",
      "|      bike|  null| 0.02096106490343165|-0.00915222693840...|-0.08538726699652686|\n",
      "|  stairsup|nexus4|-0.02442588571617...|-0.01150252324103...| -0.0994707080266443|\n",
      "|      null|nexus4|0.001116290402170...|-0.00657669929797...|-0.00918707169429...|\n",
      "|      null|  null|0.001116290402170...|-0.00657669929797...|-0.00918707169429...|\n",
      "|stairsdown|  null|0.025383337512333532|-0.03625807633323...| 0.12712694345857203|\n",
      "|      null|  null|-0.00601179783148...|-7.22352747272203...|0.003847526633724173|\n",
      "|       sit|nexus4|-4.84874225480319...|3.237740430277418E-4|-4.65213713798286...|\n",
      "|stairsdown|nexus4|0.025383337512333532|-0.03625807633323...| 0.12712694345857203|\n",
      "|     stand|nexus4|-3.19865608911240...|4.070066943871047E-4|1.027885098598926...|\n",
      "|      null|nexus4|-0.00601179783148...|-7.22352747272203...|0.003847526633724173|\n",
      "|      bike|nexus4| 0.02096106490343165|-0.00915222693840...|-0.08538726699652686|\n",
      "+----------+------+--------------------+--------------------+--------------------+\n",
      "\n",
      "+----------+------+--------------------+--------------------+--------------------+\n",
      "|        gt| model|              avg(x)|              avg(y)|              avg(z)|\n",
      "+----------+------+--------------------+--------------------+--------------------+\n",
      "|       sit|  null|-5.02209146083022...|3.799962816160732...|-2.52092116718563...|\n",
      "|      walk|nexus4|-0.00317765395921...|0.003289352996140111| 0.00278357799914253|\n",
      "|      walk|  null|-0.00317765395921...|0.003289352996140111| 0.00278357799914253|\n",
      "|  stairsup|  null|-0.02538044852097...|-0.01115630564901...| -0.0984615561306472|\n",
      "|     stand|  null|-3.85281971657783...|4.911896808133742E-4|3.596050619546694...|\n",
      "|      bike|  null|0.022510255124868785|-0.00898604823548...|-0.08336229972395522|\n",
      "|  stairsup|nexus4|-0.02538044852097...|-0.01115630564901...| -0.0984615561306472|\n",
      "|      null|nexus4|0.001263425007459...|-0.00650110655964...|-0.00819209174867...|\n",
      "|      null|  null|0.001263425007459...|-0.00650110655964...|-0.00819209174867...|\n",
      "|stairsdown|  null|0.024677638188491943|-0.03637329947153...|  0.1275882097466041|\n",
      "|      null|  null|-0.00551275851715...|-6.49222625233695...|0.005846553661280067|\n",
      "|       sit|nexus4|-5.02209146083022...|3.799962816160732...|-2.52092116718563...|\n",
      "|stairsdown|nexus4|0.024677638188491943|-0.03637329947153...|  0.1275882097466041|\n",
      "|     stand|nexus4|-3.85281971657783...|4.911896808133742E-4|3.596050619546694...|\n",
      "|      null|nexus4|-0.00551275851715...|-6.49222625233695...|0.005846553661280067|\n",
      "|      bike|nexus4|0.022510255124868785|-0.00898604823548...|-0.08336229972395522|\n",
      "+----------+------+--------------------+--------------------+--------------------+\n",
      "\n"
     ]
    }
   ],
   "source": [
    "for x in range(2):\n",
    "    spark.sql(\"SELECT * FROM device_counts\").show()\n",
    "    sleep(1)"
   ]
  },
  {
   "cell_type": "code",
   "execution_count": 14,
   "metadata": {
    "tags": []
   },
   "outputs": [],
   "source": [
    "spark.stop()"
   ]
  }
 ],
 "metadata": {
  "kernelspec": {
   "display_name": "Python 3 (ipykernel)",
   "language": "python",
   "name": "python3"
  },
  "language_info": {
   "codemirror_mode": {
    "name": "ipython",
    "version": 3
   },
   "file_extension": ".py",
   "mimetype": "text/x-python",
   "name": "python",
   "nbconvert_exporter": "python",
   "pygments_lexer": "ipython3",
   "version": "3.10.10"
  }
 },
 "nbformat": 4,
 "nbformat_minor": 4
}
